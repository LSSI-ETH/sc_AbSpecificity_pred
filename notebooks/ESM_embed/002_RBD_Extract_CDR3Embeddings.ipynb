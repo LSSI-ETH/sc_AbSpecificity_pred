{
 "cells": [
  {
   "cell_type": "code",
   "execution_count": 1,
   "id": "6d5fc0fb",
   "metadata": {},
   "outputs": [
    {
     "data": {
      "text/markdown": [
       "# 002 Notebook - Extract ESM-2 CDR embeddings"
      ],
      "text/plain": [
       "<IPython.core.display.Markdown object>"
      ]
     },
     "metadata": {},
     "output_type": "display_data"
    },
    {
     "data": {
      "text/markdown": [
       "Author: Lena Erlach"
      ],
      "text/plain": [
       "<IPython.core.display.Markdown object>"
      ]
     },
     "metadata": {},
     "output_type": "display_data"
    },
    {
     "data": {
      "text/markdown": [
       "Created: 2024-01-18"
      ],
      "text/plain": [
       "<IPython.core.display.Markdown object>"
      ]
     },
     "metadata": {},
     "output_type": "display_data"
    },
    {
     "data": {
      "text/markdown": [
       "Last modified: 2024-07-17"
      ],
      "text/plain": [
       "<IPython.core.display.Markdown object>"
      ]
     },
     "metadata": {},
     "output_type": "display_data"
    }
   ],
   "source": [
    "# from datetime import datetime\n",
    "from IPython.display import display, Markdown\n",
    "from datetime import datetime, date\n",
    "\n",
    "todays_date = str(datetime.now().date())\n",
    "\n",
    "display(Markdown(f'# 002 Notebook - Extract ESM-2 CDR embeddings'))\n",
    "display(Markdown(f'Author: Lena Erlach'))\n",
    "display(Markdown(f'Created: 2024-01-18'))\n",
    "display(Markdown(f'Last modified: {todays_date}'))"
   ]
  },
  {
   "cell_type": "code",
   "execution_count": 2,
   "id": "01ad7034",
   "metadata": {},
   "outputs": [
    {
     "name": "stderr",
     "output_type": "stream",
     "text": [
      "/data/cb/scratch/lenae/software/Anaconda/envs/abmap/lib/python3.8/site-packages/umap/distances.py:1063: NumbaDeprecationWarning: The 'nopython' keyword argument was not supplied to the 'numba.jit' decorator. The implicit default value for this argument is currently False, but it will be changed to True in Numba 0.59.0. See https://numba.readthedocs.io/en/stable/reference/deprecation.html#deprecation-of-object-mode-fall-back-behaviour-when-using-jit for details.\n",
      "  @numba.jit()\n",
      "/data/cb/scratch/lenae/software/Anaconda/envs/abmap/lib/python3.8/site-packages/umap/distances.py:1071: NumbaDeprecationWarning: The 'nopython' keyword argument was not supplied to the 'numba.jit' decorator. The implicit default value for this argument is currently False, but it will be changed to True in Numba 0.59.0. See https://numba.readthedocs.io/en/stable/reference/deprecation.html#deprecation-of-object-mode-fall-back-behaviour-when-using-jit for details.\n",
      "  @numba.jit()\n",
      "/data/cb/scratch/lenae/software/Anaconda/envs/abmap/lib/python3.8/site-packages/umap/distances.py:1086: NumbaDeprecationWarning: The 'nopython' keyword argument was not supplied to the 'numba.jit' decorator. The implicit default value for this argument is currently False, but it will be changed to True in Numba 0.59.0. See https://numba.readthedocs.io/en/stable/reference/deprecation.html#deprecation-of-object-mode-fall-back-behaviour-when-using-jit for details.\n",
      "  @numba.jit()\n",
      "/data/cb/scratch/lenae/software/Anaconda/envs/abmap/lib/python3.8/site-packages/umap/umap_.py:660: NumbaDeprecationWarning: The 'nopython' keyword argument was not supplied to the 'numba.jit' decorator. The implicit default value for this argument is currently False, but it will be changed to True in Numba 0.59.0. See https://numba.readthedocs.io/en/stable/reference/deprecation.html#deprecation-of-object-mode-fall-back-behaviour-when-using-jit for details.\n",
      "  @numba.jit()\n"
     ]
    }
   ],
   "source": [
    "import numpy as np\n",
    "import pandas as pd\n",
    "import matplotlib.pyplot as plt\n",
    "import os, configparser\n",
    "from tqdm import tqdm\n",
    "import sys\n",
    "import pickle\n",
    "\n",
    "# Load the config file\n",
    "CONFIG_PATH = {}\n",
    "CONFIG_PATH['OVA'] = '../../config_file.txt'\n",
    "CONFIG_PATH['RBD'] = '../../config_file_RBD.txt'\n",
    "config_O = configparser.ConfigParser()\n",
    "config_R = configparser.ConfigParser()\n",
    "config_O.read(CONFIG_PATH['OVA'])\n",
    "config_R.read(CONFIG_PATH['RBD'])\n",
    "ROOT_DIR = config_O['ROOT']['ROOT_DIR']\n",
    "\n",
    "\n",
    "sys.path.append(os.path.join(ROOT_DIR, 'src'))\n",
    "sys.path.append(os.path.join(ROOT_DIR, 'src/Spec_classification'))\n",
    "import utils_nb as utils\n",
    "import Load_embs_class as lec"
   ]
  },
  {
   "cell_type": "markdown",
   "id": "be890410",
   "metadata": {},
   "source": [
    "## Table of Contents\n",
    "\n",
    "- [1. Load datasets & preprocess](#Preprocess)\n",
    "- [2. Extract CDR embeddings from ESM-2](#Extract-embeddings)\n",
    "- [2.1 Test loading CDR embeddings](#Load-embeddings)\n",
    "- [3. PCA Plot of embeddings](#PCA-embeddings)"
   ]
  },
  {
   "cell_type": "markdown",
   "id": "b891689d",
   "metadata": {},
   "source": [
    "#### Define paths"
   ]
  },
  {
   "cell_type": "code",
   "execution_count": 3,
   "id": "37e09cc8",
   "metadata": {},
   "outputs": [],
   "source": [
    "# temp folder for the anarci files\n",
    "anarci_dir = os.path.join(ROOT_DIR, config_O['PATHS']['ANARCI_DIR'])\n",
    "\n",
    "# output paths for CDR embeddings\n",
    "emb_outputPath_ESM_CDR = {'OVA': os.path.join(ROOT_DIR, config_O['VH_VL_EMBEDPATH']['ESM2_CDRextract']), 'RBD': os.path.join(ROOT_DIR, config_R['VH_VL_EMBEDPATH']['ESM2_CDRextract'])}\n",
    "emb_outputPath_ESM_CDR_H = {'OVA': os.path.join(ROOT_DIR, config_O['VH_EMBEDPATH']['ESM2_CDRextract']), 'RBD': os.path.join(ROOT_DIR, config_R['VH_EMBEDPATH']['ESM2_CDRextract'])}\n",
    "\n",
    "# Seq column name 'VDJ_aaSeq', 'VDJ_aaSeqCDR3', 'cdr_comb'...\n",
    "seq_col_H = 'VDJ_aaSeq'\n",
    "seq_col_L = 'VJ_aaSeq'\n",
    "\n",
    "\n",
    "# use anarci numbering\n",
    "chothia_nums2 = {'H': [[24, 34], [50, 58], [94, 103]], \n",
    "                     'L': [[24, 34], [48, 54], [89, 98]]}\n",
    "scheme='chothia'\n"
   ]
  },
  {
   "cell_type": "markdown",
   "id": "5868b4df",
   "metadata": {},
   "source": [
    "<a id='Preprocess'></a>\n",
    "## 1. Load datasets of sequences, ESM embedding and extract CDR embedding - VH_VL"
   ]
  },
  {
   "cell_type": "code",
   "execution_count": 10,
   "id": "12c81cc2",
   "metadata": {},
   "outputs": [
    {
     "name": "stdout",
     "output_type": "stream",
     "text": [
      "Load embeddings for VH_VL sequences\n",
      "ESM - VH_VL embeddings loaded\n",
      "ESM - embeddings loaded for OVA\n",
      "paired\n"
     ]
    },
    {
     "name": "stderr",
     "output_type": "stream",
     "text": [
      "  0%|          | 0/3 [00:00<?, ?it/s]Warning: Non IG chains cannot be numbered with the chothia scheme. These will be ignored.\n",
      "Warning: Non IG chains cannot be numbered with the chothia scheme. These will be ignored.\n",
      " 33%|███▎      | 1/3 [00:01<00:02,  1.40s/it]Warning: Non IG chains cannot be numbered with the chothia scheme. These will be ignored.\n",
      "Warning: Non IG chains cannot be numbered with the chothia scheme. These will be ignored.\n",
      " 67%|██████▋   | 2/3 [00:02<00:01,  1.10s/it]Warning: Non IG chains cannot be numbered with the chothia scheme. These will be ignored.\n",
      "Warning: Non IG chains cannot be numbered with the chothia scheme. These will be ignored.\n",
      "100%|██████████| 3/3 [00:03<00:00,  1.04s/it]\n"
     ]
    },
    {
     "name": "stdout",
     "output_type": "stream",
     "text": [
      "ESM - CDR embeddings extracted for OVA\n",
      "Load embeddings for VH_VL sequences\n",
      "ESM - VH_VL embeddings loaded\n",
      "ESM - embeddings loaded for RBD\n",
      "paired\n"
     ]
    },
    {
     "name": "stderr",
     "output_type": "stream",
     "text": [
      "  0%|          | 0/3 [00:00<?, ?it/s]Warning: Non IG chains cannot be numbered with the chothia scheme. These will be ignored.\n",
      "Warning: Non IG chains cannot be numbered with the chothia scheme. These will be ignored.\n",
      " 33%|███▎      | 1/3 [00:00<00:01,  1.15it/s]Warning: Non IG chains cannot be numbered with the chothia scheme. These will be ignored.\n",
      "Warning: Non IG chains cannot be numbered with the chothia scheme. These will be ignored.\n",
      " 67%|██████▋   | 2/3 [00:01<00:00,  1.19it/s]Warning: Non IG chains cannot be numbered with the chothia scheme. These will be ignored.\n",
      "Warning: Non IG chains cannot be numbered with the chothia scheme. These will be ignored.\n",
      "100%|██████████| 3/3 [00:02<00:00,  1.17it/s]"
     ]
    },
    {
     "name": "stdout",
     "output_type": "stream",
     "text": [
      "ESM - CDR embeddings extracted for RBD\n"
     ]
    },
    {
     "name": "stderr",
     "output_type": "stream",
     "text": [
      "\n"
     ]
    }
   ],
   "source": [
    "######## LOAD ESM EMBEDDINGS ########\n",
    "ESM_var_embeddings = {}\n",
    "seqs_H = {}\n",
    "seqs_L = {}\n",
    "names = {}\n",
    "\n",
    "embeddings_esm_CDR_fl = {}\n",
    "\n",
    "for dataset in ['OVA', 'RBD']: \n",
    "\n",
    "    f_192 = False\n",
    "\n",
    "    if dataset == 'OVA':\n",
    "        f_192 = True\n",
    "\n",
    "    Embeddings =  lec.LoadEmbeddings_VH_VL(CONFIG_PATH[dataset], seq_col='VDJ_VJ_aaSeq', filter_192 = f_192)\n",
    "    Embeddings.load_embeddings(embedding_type = 'esm')\n",
    "\n",
    "\n",
    "    ### Load mAb sequences\n",
    "    seq_df = Embeddings.seq_df\n",
    "    seq_df = seq_df[seq_df['seq_complete'] == True]\n",
    "    names[dataset] = Embeddings.names\n",
    "    # seqs[dataset] = Embeddings.seqs\n",
    "\n",
    "    seqs_H[dataset] = seq_df[seq_col_H].reset_index(drop=True)\n",
    "    seqs_L[dataset] = seq_df[seq_col_L].reset_index(drop=True)\n",
    "\n",
    "    ## Load embeddings - ESM2 - VH_VL\n",
    "    ESM_var_embeddings[dataset] = Embeddings.emb_ESM_var\n",
    "    print(f\"ESM - embeddings loaded for {dataset}\") \n",
    "\n",
    "\n",
    "    # get CDR extract embedding for heavy and light chain sequences \n",
    "    embeddings_esm_CDR_fl[dataset] = utils.extract_cdr_embedding(seqs_H[dataset][:3], seqs_L[dataset][:3], names=names[dataset][:3], embeddings=ESM_var_embeddings[dataset][:3], \n",
    "                                                        save_embeddings=True, emb_outputPath=emb_outputPath_ESM_CDR[dataset],\n",
    "                                                        anarci_dir=anarci_dir, all_regions = chothia_nums2)\n",
    "\n",
    "    print(f\"ESM - CDR embeddings extracted for {dataset}\")\n",
    "\n",
    "\n"
   ]
  },
  {
   "cell_type": "markdown",
   "id": "8745f3e0",
   "metadata": {},
   "source": [
    "<a id='Extract-embeddings'></a>\n",
    "## 2. Load datasets of sequences, ESM embedding and extract CDR embedding - VH\n"
   ]
  },
  {
   "cell_type": "code",
   "execution_count": 14,
   "id": "7603d9ef",
   "metadata": {},
   "outputs": [
    {
     "name": "stdout",
     "output_type": "stream",
     "text": [
      "else\n"
     ]
    },
    {
     "name": "stderr",
     "output_type": "stream",
     "text": [
      "  0%|          | 0/3 [00:00<?, ?it/s]Warning: Non IG chains cannot be numbered with the chothia scheme. These will be ignored.\n",
      " 33%|███▎      | 1/3 [00:00<00:00,  2.05it/s]Warning: Non IG chains cannot be numbered with the chothia scheme. These will be ignored.\n",
      " 67%|██████▋   | 2/3 [00:00<00:00,  2.27it/s]Warning: Non IG chains cannot be numbered with the chothia scheme. These will be ignored.\n",
      "100%|██████████| 3/3 [00:01<00:00,  2.29it/s]\n"
     ]
    }
   ],
   "source": [
    "embeddings_esm_CDR_fl_H = {}\n",
    "\n",
    "for dataset in ['OVA', 'RBD']: \n",
    "\n",
    "    f_192 = False\n",
    "\n",
    "    if dataset == 'OVA':\n",
    "        f_192 = True\n",
    "\n",
    "    Embeddings =  lec.LoadEmbeddings_VH_VL(CONFIG_PATH[dataset], seq_col='VDJ_aaSeq', filter_VH_complete = True, filter_192 = f_192)\n",
    "    Embeddings.load_embeddings(embedding_type = 'esm')\n",
    "\n",
    "    ### Load mAb sequences\n",
    "    seq_df = Embeddings.seq_df\n",
    "    seq_df = seq_df[seq_df['seq_complete'] == True]\n",
    "    names[dataset] = Embeddings.names\n",
    "\n",
    "\n",
    "    seqs_H[dataset] = seq_df[seq_col_H].reset_index(drop=True)\n",
    "    seqs_L[dataset] = []\n",
    "\n",
    "    ## Load embeddings - ESM2 - VH_VL\n",
    "    ESM_var_embeddings[dataset] = Embeddings.emb_ESM_var\n",
    "    print(f\"ESM - embeddings loaded for {dataset}\") \n",
    "\n",
    "\n",
    "    # get CDR extract embedding for heavy only chain sequences\n",
    "    embeddings_esm_CDR_fl_H[dataset] = utils.extract_cdr_embedding(seqs_H[dataset][:3], seqs_L[dataset], names=names[dataset][:3], embeddings=ESM_var_embeddings[dataset][:3], \n",
    "                                                        save_embeddings=True, emb_outputPath=emb_outputPath_ESM_CDR_H[dataset],\n",
    "                                                        paired_chains=False, anarci_dir=anarci_dir, all_regions = chothia_nums2)\n",
    "\n"
   ]
  }
 ],
 "metadata": {
  "kernelspec": {
   "display_name": "Python 3 (ipykernel)",
   "language": "python",
   "name": "python3"
  },
  "language_info": {
   "codemirror_mode": {
    "name": "ipython",
    "version": 3
   },
   "file_extension": ".py",
   "mimetype": "text/x-python",
   "name": "python",
   "nbconvert_exporter": "python",
   "pygments_lexer": "ipython3",
   "version": "3.8.16"
  }
 },
 "nbformat": 4,
 "nbformat_minor": 5
}
