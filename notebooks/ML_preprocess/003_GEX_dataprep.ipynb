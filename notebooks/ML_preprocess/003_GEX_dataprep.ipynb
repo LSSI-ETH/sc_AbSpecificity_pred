{
 "cells": [
  {
   "cell_type": "code",
   "execution_count": 2,
   "metadata": {},
   "outputs": [
    {
     "data": {
      "text/markdown": [
       "# Notebook - Prepare datset for Specificity predictions with BCR-GEX integrated data"
      ],
      "text/plain": [
       "<IPython.core.display.Markdown object>"
      ]
     },
     "metadata": {},
     "output_type": "display_data"
    },
    {
     "data": {
      "text/markdown": [
       "Author: Lena Erlach"
      ],
      "text/plain": [
       "<IPython.core.display.Markdown object>"
      ]
     },
     "metadata": {},
     "output_type": "display_data"
    },
    {
     "data": {
      "text/markdown": [
       "Created: 2024-01-21"
      ],
      "text/plain": [
       "<IPython.core.display.Markdown object>"
      ]
     },
     "metadata": {},
     "output_type": "display_data"
    },
    {
     "data": {
      "text/markdown": [
       "Last modified: 2024-07-18"
      ],
      "text/plain": [
       "<IPython.core.display.Markdown object>"
      ]
     },
     "metadata": {},
     "output_type": "display_data"
    }
   ],
   "source": [
    "# from datetime import datetime\n",
    "from IPython.display import display, Markdown\n",
    "from datetime import datetime, date\n",
    "\n",
    "todays_date = str(datetime.now().date())\n",
    "\n",
    "display(Markdown(f'# Notebook - Prepare datset for Specificity predictions with BCR-GEX integrated data'))\n",
    "display(Markdown(f'Author: Lena Erlach'))\n",
    "display(Markdown(f'Created: 2024-01-21'))\n",
    "display(Markdown(f'Last modified: {todays_date}'))\n",
    "\n",
    "\n",
    "import numpy as np\n",
    "import pandas as pd\n",
    "import os, sys\n",
    "UTILS_DIR = '../../src'\n",
    "sys.path.append(UTILS_DIR)\n",
    "import utils_nb as utils"
   ]
  },
  {
   "cell_type": "markdown",
   "metadata": {},
   "source": [
    "## Dataprep:\n",
    "##### 1. Load variable gene expression and load antibody sequence datasets\n",
    "##### 2. Create datasets of cells having BCR and GEX data modality\n",
    "a. append 2000 genes, with ~3000 kmer features \n",
    "\n",
    "b. reduce dim. with PCA\n",
    "\n",
    "\n",
    "\n",
    "\n",
    "\n",
    "### Load GEX datasets \n",
    "\n",
    "Datsets are top 2000 variable, scaled gene expression values of RBD and OVA dataset separately"
   ]
  },
  {
   "cell_type": "code",
   "execution_count": 4,
   "metadata": {},
   "outputs": [],
   "source": [
    "# define paths\n",
    "ROOT_DIR = '../../'\n",
    "\n",
    "OVA_path_GEX = os.path.join(ROOT_DIR, 'data/raw/scaled_GEX_OVA_harmony_overlappingclonesexcl.csv')\n",
    "RBD_path_GEX = os.path.join(ROOT_DIR, 'data/raw/scaled_GEX_RBD_harmony_overlappingclonesexcl.csv')\n",
    "INT_path_GEX = os.path.join(ROOT_DIR, 'data/raw/scaled_GEX_OVA_RBD_int_harmony_overlappingclonesexcl.csv')\n",
    "\n",
    "\n",
    "OVA_path_VDJ = os.path.join(ROOT_DIR, 'data/processed/processed_OVA_VDJ_aaSeq_df_2023-09-28.csv')\n",
    "RBD_path_VDJ = os.path.join(ROOT_DIR, 'data/processed/processed_RBD_VDJ_aaSeq_df_2024-01-19.csv')\n",
    "\n",
    "\n",
    "\n",
    "# OVA_out_comb_feats = os.path.join(ROOT_DIR, f'data/processed/GEX/OVA_BCR_GEX_feats{todays_date}.csv')\n",
    "# RBD_out_comb_feats =  os.path.join(ROOT_DIR, f'data/processed/GEX/RBD_BCR_GEX_feats{todays_date}.csv')\n",
    "# INT_out_comb_feats =  os.path.join(ROOT_DIR, f'data/processed/GEX/OVA_RBD_int_BCR_GEX_feats{todays_date}.csv')\n",
    "\n"
   ]
  },
  {
   "cell_type": "markdown",
   "metadata": {},
   "source": [
    "OVA DATASET"
   ]
  },
  {
   "cell_type": "code",
   "execution_count": 5,
   "metadata": {},
   "outputs": [
    {
     "name": "stdout",
     "output_type": "stream",
     "text": [
      "Total num cells - GEX: 8640\n",
      "Total num cells - VDJ: 3807; specific: 574, nonspec: 3233\n",
      "Total num cells - inters: 3308; specific: 371, nonspec: 2937\n"
     ]
    },
    {
     "ename": "NameError",
     "evalue": "name 'OVA_out_comb_feats' is not defined",
     "output_type": "error",
     "traceback": [
      "\u001b[0;31m---------------------------------------------------------------------------\u001b[0m",
      "\u001b[0;31mNameError\u001b[0m                                 Traceback (most recent call last)",
      "Cell \u001b[0;32mIn[5], line 41\u001b[0m\n\u001b[1;32m     38\u001b[0m \u001b[38;5;66;03m### Create new dataframe with kmer freqs and gene expression data\u001b[39;00m\n\u001b[1;32m     39\u001b[0m GEX_BCR_df \u001b[38;5;241m=\u001b[39m  pd\u001b[38;5;241m.\u001b[39mconcat([VDJ_inters_kmer, GEX_inters], axis\u001b[38;5;241m=\u001b[39m\u001b[38;5;241m1\u001b[39m)\n\u001b[0;32m---> 41\u001b[0m GEX_BCR_df\u001b[38;5;241m.\u001b[39mto_csv(\u001b[43mOVA_out_comb_feats\u001b[49m)\n",
      "\u001b[0;31mNameError\u001b[0m: name 'OVA_out_comb_feats' is not defined"
     ]
    }
   ],
   "source": [
    "# Load datasets \n",
    "GEX_raw = pd.read_csv(OVA_path_GEX)\n",
    "GEX_raw.rename(columns={'Unnamed: 0': 'gene_id'}, inplace=True)\n",
    "GEX_raw.columns = GEX_raw.columns.str.lstrip('_')\n",
    "\n",
    "VDJ = pd.read_csv(OVA_path_VDJ)\n",
    "\n",
    "\n",
    "\n",
    "# check which barcodes are intersecting\n",
    "bcs_GEX = GEX_raw.columns[1:]\n",
    "bcs_VDJ = VDJ.barcode\n",
    "bcs_inters = np.intersect1d(bcs_GEX, bcs_VDJ)\n",
    "print(f'Total num cells - GEX: {len(bcs_GEX)}')\n",
    "print(f'Total num cells - VDJ: {len(bcs_VDJ)}; specific: {len(VDJ.barcode[VDJ.group_id == 1])}, nonspec: {len(VDJ.barcode[VDJ.group_id == 2])}')\n",
    "\n",
    "# subset the dataframes and transrom GEX dataframe\n",
    "GEX_inters = GEX_raw.loc[:, bcs_inters].T\n",
    "GEX_inters.columns = GEX_raw.gene_id\n",
    "GEX_inters.rename(columns={'gene_id': 'barcode'}, inplace=True)\n",
    "GEX_inters.reset_index(drop=True, inplace=True)\n",
    "\n",
    "VDJ_inters = VDJ[VDJ.barcode.isin(bcs_inters)].reset_index(drop=True)\n",
    "print(f'Total num cells - inters: {len(VDJ_inters)}; specific: {len(VDJ_inters.barcode[VDJ_inters.group_id == 1])}, nonspec: {len(VDJ_inters.barcode[VDJ_inters.group_id == 2])}')\n",
    "\n",
    "\n",
    "#### Calculate kmer frequencies\n",
    "# Calculate the kmer vectors\n",
    "k=3\n",
    "seqs = VDJ_inters.VDJ_VJ_aaSeq\n",
    "all_kmers = utils.generate_all_kmers(seqs, k)\n",
    "vectors = [utils.freqs_to_vector(utils.kmer_frequencies(seq, k), all_kmers) for seq in seqs]\n",
    "kmer_arr = np.array(vectors)\n",
    "\n",
    "# add kmer_arr to VDJ_inters\n",
    "VDJ_inters_kmer = pd.concat([VDJ_inters.loc[:, ['barcode','sample_id', 'group_id', 'VDJ_VJ_aaSeq', 'VDJ_aaSeq']], pd.DataFrame(kmer_arr)],axis=1)\n",
    "\n",
    "### Create new dataframe with kmer freqs and gene expression data\n",
    "GEX_BCR_df =  pd.concat([VDJ_inters_kmer, GEX_inters], axis=1)\n",
    "\n",
    "GEX_BCR_df.to_csv(OVA_out_comb_feats)"
   ]
  },
  {
   "cell_type": "markdown",
   "metadata": {},
   "source": [
    "RUN FOR RBD DATASET"
   ]
  },
  {
   "cell_type": "code",
   "execution_count": 6,
   "metadata": {},
   "outputs": [
    {
     "name": "stdout",
     "output_type": "stream",
     "text": [
      "Total num cells - GEX: 5840\n",
      "Total num cells - VDJ: 3784; specific: 663, nonspec: 3121\n",
      "Total num cells - inters: 2561; specific: 510, nonspec: 2051\n"
     ]
    },
    {
     "ename": "NameError",
     "evalue": "name 'RBD_out_comb_feats' is not defined",
     "output_type": "error",
     "traceback": [
      "\u001b[0;31m---------------------------------------------------------------------------\u001b[0m",
      "\u001b[0;31mNameError\u001b[0m                                 Traceback (most recent call last)",
      "Cell \u001b[0;32mIn[6], line 41\u001b[0m\n\u001b[1;32m     38\u001b[0m \u001b[38;5;66;03m### Create new dataframe with kmer freqs and gene expression data\u001b[39;00m\n\u001b[1;32m     39\u001b[0m GEX_BCR_df \u001b[38;5;241m=\u001b[39m  pd\u001b[38;5;241m.\u001b[39mconcat([VDJ_inters_kmer, GEX_inters], axis\u001b[38;5;241m=\u001b[39m\u001b[38;5;241m1\u001b[39m)\n\u001b[0;32m---> 41\u001b[0m GEX_BCR_df\u001b[38;5;241m.\u001b[39mto_csv(\u001b[43mRBD_out_comb_feats\u001b[49m)\n",
      "\u001b[0;31mNameError\u001b[0m: name 'RBD_out_comb_feats' is not defined"
     ]
    }
   ],
   "source": [
    "# Load datasets \n",
    "GEX_raw = pd.read_csv(RBD_path_GEX)\n",
    "GEX_raw.rename(columns={'Unnamed: 0': 'gene_id'}, inplace=True)\n",
    "GEX_raw.columns = GEX_raw.columns.str.lstrip('_')\n",
    "\n",
    "VDJ = pd.read_csv(RBD_path_VDJ)\n",
    "\n",
    "\n",
    "\n",
    "# check which barcodes are intersecting\n",
    "bcs_GEX = GEX_raw.columns[1:]\n",
    "bcs_VDJ = VDJ.barcode\n",
    "bcs_inters = np.intersect1d(bcs_GEX, bcs_VDJ)\n",
    "print(f'Total num cells - GEX: {len(bcs_GEX)}')\n",
    "print(f'Total num cells - VDJ: {len(bcs_VDJ)}; specific: {len(VDJ.barcode[VDJ.group_id == 1])}, nonspec: {len(VDJ.barcode[VDJ.group_id == 2])}')\n",
    "\n",
    "# subset the dataframes and transrom GEX dataframe\n",
    "GEX_inters = GEX_raw.loc[:, bcs_inters].T\n",
    "GEX_inters.columns = GEX_raw.gene_id\n",
    "GEX_inters.rename(columns={'gene_id': 'barcode'}, inplace=True)\n",
    "GEX_inters.reset_index(drop=True, inplace=True)\n",
    "\n",
    "VDJ_inters = VDJ[VDJ.barcode.isin(bcs_inters)].reset_index(drop=True)\n",
    "print(f'Total num cells - inters: {len(VDJ_inters)}; specific: {len(VDJ_inters.barcode[VDJ_inters.group_id == 1])}, nonspec: {len(VDJ_inters.barcode[VDJ_inters.group_id == 2])}')\n",
    "\n",
    "\n",
    "#### Calculate kmer frequencies\n",
    "# Calculate the kmer vectors\n",
    "k=3\n",
    "seqs = VDJ_inters.VDJ_VJ_aaSeq\n",
    "all_kmers = utils.generate_all_kmers(seqs, k)\n",
    "vectors = [utils.freqs_to_vector(utils.kmer_frequencies(seq, k), all_kmers) for seq in seqs]\n",
    "kmer_arr = np.array(vectors)\n",
    "\n",
    "# add kmer_arr to VDJ_inters\n",
    "VDJ_inters_kmer = pd.concat([VDJ_inters.loc[:, ['barcode','sample_id', 'group_id', 'VDJ_VJ_aaSeq', 'VDJ_aaSeq']], pd.DataFrame(kmer_arr)],axis=1)\n",
    "\n",
    "### Create new dataframe with kmer freqs and gene expression data\n",
    "GEX_BCR_df =  pd.concat([VDJ_inters_kmer, GEX_inters], axis=1)\n",
    "\n",
    "GEX_BCR_df.to_csv(RBD_out_comb_feats)"
   ]
  },
  {
   "cell_type": "markdown",
   "metadata": {},
   "source": [
    "INT DATASET"
   ]
  },
  {
   "cell_type": "code",
   "execution_count": 42,
   "metadata": {},
   "outputs": [],
   "source": [
    "# Load datasets \n",
    "GEX_raw = pd.read_csv(INT_path_GEX)\n",
    "GEX_raw.rename(columns={'Unnamed: 0': 'gene_id'}, inplace=True)\n",
    "GEX_raw.columns = GEX_raw.columns.str.lstrip('_')\n",
    "# drop duplicated barcodes (only ~40 or so)\n",
    "GEX_raw = GEX_raw.loc[:,~GEX_raw.columns.duplicated()].copy()\n",
    "\n",
    "\n",
    "VDJ_O = pd.read_csv(OVA_path_VDJ)\n",
    "VDJ_O['sample_barcode'] = [f'OVA_{b}' for b in VDJ_O.barcode]\n",
    "VDJ_R = pd.read_csv(RBD_path_VDJ)\n",
    "VDJ_R['sample_barcode'] = [f'RBD_{b}' for b in VDJ_R.barcode]\n",
    "\n",
    "VDJ = pd.concat([VDJ_O, VDJ_R])                         # ---------> maybe barcodes are detected in VDJ and then OVA and RBD??\n",
    "\n",
    "# drop duplicated barcodes\n",
    "VDJ = VDJ.loc[~VDJ.sample_barcode.duplicated(), :].copy()\n",
    "\n",
    "\n",
    "# check which barcodes are intersecting\n",
    "bcs_GEX = GEX_raw.columns[1:]\n",
    "bcs_VDJ = VDJ.barcode\n",
    "bcs_inters = np.intersect1d(bcs_GEX, bcs_VDJ)\n",
    "print(f'Total num cells - GEX: {len(bcs_GEX)}')\n",
    "print(f'Total num cells - VDJ: {len(bcs_VDJ)}; specific: {len(VDJ.barcode[VDJ.group_id == 1])}, nonspec: {len(VDJ.barcode[VDJ.group_id == 2])}')\n",
    "\n",
    "# subset the dataframes and transrom GEX dataframe\n",
    "GEX_inters = GEX_raw.loc[:, bcs_inters].T\n",
    "GEX_inters.columns = GEX_raw.gene_id\n",
    "GEX_inters.rename(columns={'gene_id': 'barcode'}, inplace=True)\n",
    "GEX_inters.reset_index(drop=True, inplace=True)\n",
    "\n",
    "VDJ_inters = VDJ[VDJ.barcode.isin(bcs_inters)].reset_index(drop=True)\n",
    "print(f'Total num cells - inters: {len(VDJ_inters)}; specific: {len(VDJ_inters.barcode[VDJ_inters.group_id == 1])}, nonspec: {len(VDJ_inters.barcode[VDJ_inters.group_id == 2])}')\n",
    "\n",
    "\n",
    "#### Calculate kmer frequencies\n",
    "k=3\n",
    "seqs = VDJ_inters.VDJ_VJ_aaSeq\n",
    "all_kmers = utils.generate_all_kmers(seqs, k)\n",
    "vectors = [utils.freqs_to_vector(utils.kmer_frequencies(seq, k), all_kmers) for seq in seqs]\n",
    "kmer_arr = np.array(vectors)\n",
    "\n",
    "\n",
    "# add kmer_arr to VDJ_inters\n",
    "VDJ_inters_kmer = pd.concat([VDJ_inters.loc[:, ['barcode','sample_id', 'group_id', 'VDJ_VJ_aaSeq', 'VDJ_aaSeq']], pd.DataFrame(kmer_arr)],axis=1)\n",
    "\n",
    "### Create new dataframe with kmer freqs and gene expression data\n",
    "GEX_BCR_df =  pd.concat([VDJ_inters_kmer, GEX_inters], axis=1)\n",
    "\n",
    "GEX_BCR_df.to_csv(INT_out_comb_feats)"
   ]
  }
 ],
 "metadata": {
  "kernelspec": {
   "display_name": "abmap",
   "language": "python",
   "name": "python3"
  },
  "language_info": {
   "codemirror_mode": {
    "name": "ipython",
    "version": 3
   },
   "file_extension": ".py",
   "mimetype": "text/x-python",
   "name": "python",
   "nbconvert_exporter": "python",
   "pygments_lexer": "ipython3",
   "version": "3.8.16"
  }
 },
 "nbformat": 4,
 "nbformat_minor": 2
}
