{
 "cells": [
  {
   "cell_type": "code",
   "execution_count": 4,
   "id": "e1e818d5",
   "metadata": {},
   "outputs": [
    {
     "data": {
      "text/markdown": [
       "# 1. Notebook - VDJ OVA Data exploration, preprocessing & embedding"
      ],
      "text/plain": [
       "<IPython.core.display.Markdown object>"
      ]
     },
     "metadata": {},
     "output_type": "display_data"
    },
    {
     "data": {
      "text/markdown": [
       "Author: Lena Erlach"
      ],
      "text/plain": [
       "<IPython.core.display.Markdown object>"
      ]
     },
     "metadata": {},
     "output_type": "display_data"
    },
    {
     "data": {
      "text/markdown": [
       "Created: 2023-08-24"
      ],
      "text/plain": [
       "<IPython.core.display.Markdown object>"
      ]
     },
     "metadata": {},
     "output_type": "display_data"
    }
   ],
   "source": [
    "# from datetime import datetime\n",
    "from IPython.display import display, Markdown\n",
    "from datetime import datetime, date\n",
    "\n",
    "todays_date = str(datetime.now().date())\n",
    "\n",
    "display(Markdown(f'# 1. Notebook - VDJ OVA Data exploration, preprocessing & embedding'))\n",
    "display(Markdown(f'Author: Lena Erlach'))\n",
    "display(Markdown(f'Created: 2023-08-24'))\n",
    "# display(Markdown(f'Last modified: {todays_date}'))"
   ]
  },
  {
   "cell_type": "code",
   "execution_count": 1,
   "id": "f34ffcc7-aa8e-4c0b-9afc-20ed1e7ffe51",
   "metadata": {},
   "outputs": [],
   "source": [
    "import numpy as np\n",
    "import pandas as pd\n",
    "import abmap\n",
    "import torch\n",
    "import matplotlib.pyplot as plt\n",
    "import os"
   ]
  },
  {
   "cell_type": "code",
   "execution_count": 2,
   "id": "ba9940ef",
   "metadata": {},
   "outputs": [],
   "source": [
    "#### Functions used \n",
    "\n",
    "def filter_intersection(datasets: list, seq_col: str, seq_complete_col: str = \"seq_complete_HC\", verbose: bool = False):\n",
    "    '''\n",
    "    Args: \n",
    "        datasets: list of len 2\n",
    "            list of the 2 pandas dfs that should be filtered\n",
    "        seq_col: str\n",
    "            column name of sequences, which should be the basis of filtering\n",
    "        seq_complete_col: str\n",
    "            column name of with bool values, if sequence is complete\n",
    "        verbose: bool, default = False\n",
    "    Returns: \n",
    "        datasets_filt1, datasets_filt2: 2 pandas dataframes\n",
    "            Returns the 2 filtered pandas dfs\n",
    "    '''\n",
    "    \n",
    "    # filter sequences that are not complete\n",
    "    datasets[0] = datasets[0][datasets[0][seq_complete_col] == True]\n",
    "    datasets[1] = datasets[1][datasets[1][seq_complete_col] == True]\n",
    "    \n",
    "    # get intersection per sample\n",
    "    intersect_m1 = np.intersect1d(datasets[0][seq_col], datasets[1][seq_col])\n",
    "    \n",
    "    # print out number of sequences intersecting\n",
    "    if verbose is True: print(\"number of intersecting sequences:\", len(intersect_m1))\n",
    "    \n",
    "    # filter overlapping sequences per mouse (s1&s2) and (s3&s4)! \n",
    "    datasets_filt = []\n",
    "    \n",
    "    for i in range(len(datasets)):\n",
    "        d_filt = datasets[i][~np.isin(datasets[i][seq_col], intersect_m1)]\n",
    "        datasets_filt.append(d_filt)    \n",
    "    \n",
    "    return(datasets_filt[0], datasets_filt[1])\n",
    "    \n",
    "\n",
    "    \n",
    "def preprocess_raw(df, seq_col_HC, seq_col_LC, HC_prefix='VDJ_aa', LC_prefix='VJ_aa', \n",
    "                   HC_colsuffix = 'HC', LC_colsuffix='LC'):\n",
    "    '''\n",
    "    Args: \n",
    "        df: pandas dataframe\n",
    "            Raw pandas dataframe with the sequences in column 'seq_col'\n",
    "        seq_col: str\n",
    "            column name of sequences, which should be the basis of filtering\n",
    "        HC_prefix, LC_prefix: str\n",
    "            Prefix of the column names that are included when checking for nan values; e.g. 'VDJ_aa' for HCs, or 'VJ_aa'for LCs\n",
    "        HC_colsuffix, LC_colsuffix: str\n",
    "            suffix for the column added to the dataframe, True when nan values existent in checked columsn;\n",
    "\n",
    "    Returns: \n",
    "        df: pandas dataframes\n",
    "            Returns the filtered pandas dataframes\n",
    "    '''\n",
    "\n",
    "    # add a column based on HC complete or LC complete\n",
    "    col_H = [s for s in df.columns.tolist() if HC_prefix in s]\n",
    "    col_L = [s for s in df.columns.tolist() if LC_prefix in s]\n",
    "    df[\"seq_complete_\"+HC_colsuffix] = df[col_H].notna().all(axis=1)\n",
    "    df[\"seq_complete_\"+LC_colsuffix] = df[col_L].notna().all(axis=1)\n",
    "    \n",
    "    \n",
    "    # filter stop codons '*' from sequences \n",
    "    df = df[~df[seq_col].str.contains(r'\\*', na=False)]\n",
    "\n",
    "\n",
    "    # strip last under score from VDJ & VJ sequence\n",
    "    df[seq_col_HC] = df[seq_col_HC].str.strip('_')\n",
    "    df[seq_col_LC] = df[seq_col_LC].str.strip('_')\n",
    "\n",
    "    # reset index\n",
    "    df.reset_index(drop=True, inplace=True)\n",
    "    \n",
    "    \n",
    "    return(df)\n",
    "\n",
    "\n",
    "\n",
    "# save fasta files of sequences\n",
    "# Function adapted from the LModeling_OVA repo \n",
    "def save_fasta_file(sequence_df, col_name = \"VDJ_aaSeq\", id_name = \"barcode\", n_seq = 500, \n",
    "                    subdirectory = \"data/\", file_prefix = \"Seq\"):\n",
    "    \"\"\"\n",
    "    Function that writes fasta files from a protein sequences pd.DataFrame; number of sequences per file can be set (in case for the Language\n",
    "    model embeddings) that will be set to how many sequences can be embedded in one job; \n",
    "    \n",
    "    Note: \n",
    "    Sequences won't be filtered, processed or trimmed;\n",
    "        Args:\n",
    "            sequence_df (pd.DataFrame): dataframe that contains the sequences in the col_name column and sequence fasta ids in id_name column;\n",
    "\n",
    "            col_name (string): the name of the dataframe column that stores the protein sequences;\n",
    "\n",
    "            id_name (string): the name of the dataframe column that stores the sequence ids that are to be used as identifier in the fasta file;\n",
    "\n",
    "            n_seq (int): number of sequeces to be written per fasta file; (depends on how many can be embedded in one ESM embedding job)\n",
    "\n",
    "            subdirectory (string): path leading to the folder where fasta files should be stored;\n",
    "\n",
    "            file_prefix (string): file prefix for the fasta file names;\n",
    "\n",
    "        \"\"\"\n",
    "    import math\n",
    "    n_start = 0\n",
    "    num_rounds = math.ceil(len(sequence_df.loc[sequence_df.seq_complete == True, col_name]) / n_seq)\n",
    "\n",
    "    for r in range(num_rounds):\n",
    "        print(f'Save fasta: {r}')\n",
    "        if r < num_rounds - 1:\n",
    "            # Downlsample OVA sequences\n",
    "            OVA_VDJs = sequence_df[id_name].tolist()[n_start:n_start + n_seq]\n",
    "            barcodes = sequence_df[id_name].tolist()[n_start:n_start + n_seq]\n",
    "            n_start += n_seq\n",
    "            # save fasta files\n",
    "            ofile = open(os.path.join(subdirectory, file_prefix + \"fasta_\" + str(r) + \".txt\"), \"w\")\n",
    "            for i, bc in enumerate(barcodes):\n",
    "                ofile.write(\">\" + bc + \"\\n\" + OVA_VDJs[i] + \"\\n\")\n",
    "            ofile.close()\n",
    "            print(\"file saved:\" + str(r))\n",
    "\n",
    "        elif r == num_rounds - 1:\n",
    "            OVA_VDJs = sequence_df[col_name].tolist()[n_start:]\n",
    "            barcodes = sequence_df[id_name].tolist()[n_start:]\n",
    "            # print(\"last round\")\n",
    "            # save fasta files\n",
    "            ofile = open(os.path.join(subdirectory, file_prefix + \"fasta_\" + str(r) + \".txt\"), \"w\")\n",
    "            for i, bc in enumerate(barcodes):\n",
    "                # print(\">\" + bc)\n",
    "                ofile.write(\">\" + bc + \"\\n\" + OVA_VDJs[i] + \"\\n\")\n",
    "            ofile.close()\n",
    "            print(\"last file saved\")\n"
   ]
  },
  {
   "cell_type": "code",
   "execution_count": 16,
   "id": "aab67ed2",
   "metadata": {},
   "outputs": [],
   "source": [
    "# define the specifics for the filtering\n",
    "seq_col = \"VDJ_aaSeq\"\n",
    "seq_col_LC = \"VJ_aaSeq\" # column name of the sequence to filter for (VDJ_VJ_aaSeq, VDJ_aaSeq, \n",
    "seq_complete_col = \"seq_complete_HC\" # column name of sequence is complete or not (seq_complete, seq_complete_HC, seq_complete_ls) \n",
    "sample_names = [\"s1\", \"s2\", \"s3\", \"s4\"]    # entries in the sample column \n",
    "verbose = True\n",
    "\n",
    "\n",
    "inputFile_raw = \"../../data/raw/VDJ_seqs_OVA_mixcrAligned_allCells.csv\"\n",
    "\n",
    "# just save file again, if updated! Most up to date file is done on 28.09.2023 --> LC underscore trimmed now, as well!\n",
    "outputPath_processed = \"../../data/processed/processed_OVA_\"+ seq_col +\"_df_\"+ str(date.today()) +\".csv\"\n",
    "\n",
    "# fasta file path \n",
    "outputPath_processed_fasta = \"../../data/processed/fasta\""
   ]
  },
  {
   "cell_type": "code",
   "execution_count": 17,
   "id": "0e28dad0-cc91-401c-846b-f785ef5cfa59",
   "metadata": {},
   "outputs": [
    {
     "name": "stdout",
     "output_type": "stream",
     "text": [
      "Number of specific: 823 and nonspecific sequences: 7403\n",
      "After filtering: \n",
      "Number of specific: 823 and nonspecific sequences: 7401\n"
     ]
    },
    {
     "name": "stderr",
     "output_type": "stream",
     "text": [
      "/tmp/ipykernel_37182/476931900.py:70: SettingWithCopyWarning: \n",
      "A value is trying to be set on a copy of a slice from a DataFrame.\n",
      "Try using .loc[row_indexer,col_indexer] = value instead\n",
      "\n",
      "See the caveats in the documentation: https://pandas.pydata.org/pandas-docs/stable/user_guide/indexing.html#returning-a-view-versus-a-copy\n",
      "  df[seq_col_HC] = df[seq_col_HC].str.strip('_')\n",
      "/tmp/ipykernel_37182/476931900.py:71: SettingWithCopyWarning: \n",
      "A value is trying to be set on a copy of a slice from a DataFrame.\n",
      "Try using .loc[row_indexer,col_indexer] = value instead\n",
      "\n",
      "See the caveats in the documentation: https://pandas.pydata.org/pandas-docs/stable/user_guide/indexing.html#returning-a-view-versus-a-copy\n",
      "  df[seq_col_LC] = df[seq_col_LC].str.strip('_')\n"
     ]
    }
   ],
   "source": [
    "# load dataset\n",
    "OVA_seq_raw = pd.read_csv(inputFile_raw, index_col=0)\n",
    "print(f'Number of specific: {len(OVA_seq_raw[OVA_seq_raw.group_id == 1])} and nonspecific sequences: {len(OVA_seq_raw[OVA_seq_raw.group_id == 2])}')\n",
    "\n",
    "\n",
    "OVA_seq_raw = preprocess_raw(OVA_seq_raw, seq_col, seq_col_LC, HC_prefix='VDJ_aa', LC_prefix='VJ_aa', \n",
    "                             HC_colsuffix = 'HC', LC_colsuffix='LC')\n",
    "\n"
   ]
  },
  {
   "cell_type": "code",
   "execution_count": 21,
   "id": "30a037a2-164f-4461-8a20-6ae0d0f9edf3",
   "metadata": {},
   "outputs": [
    {
     "name": "stdout",
     "output_type": "stream",
     "text": [
      "\n",
      "Number of unique, non-overlapping VDJ_aaSeq sequences\n",
      "Total: 3807\n",
      "s1: 425\n",
      "s2: 1661\n",
      "s3: 149\n",
      "s4: 1572\n",
      "\n",
      "Number of unique, non-overlapping VH_VL sequences\n",
      "Total: 3622\n",
      "s1: 405\n",
      "s2: 1590\n",
      "s3: 145\n",
      "s4: 1482\n"
     ]
    }
   ],
   "source": [
    "# split unfiltered dataset by samples and drop duplicated sequencs per sample\n",
    "s1_VDJ_VJs_uf = OVA_seq_raw[OVA_seq_raw.sample_id == sample_names[0]].drop_duplicates(subset=seq_col)\n",
    "s2_VDJ_VJs_uf = OVA_seq_raw[OVA_seq_raw.sample_id == sample_names[1]].drop_duplicates(subset=seq_col)\n",
    "s3_VDJ_VJs_uf = OVA_seq_raw[OVA_seq_raw.sample_id == sample_names[2]].drop_duplicates(subset=seq_col)\n",
    "s4_VDJ_VJs_uf = OVA_seq_raw[OVA_seq_raw.sample_id == sample_names[3]].drop_duplicates(subset=seq_col)\n",
    "\n",
    "\n",
    "# Filter sequences that are in the intersection within the mice      \n",
    "s1_VDJ_VJs, s2_VDJ_VJs = filter_intersection([s1_VDJ_VJs_uf, s2_VDJ_VJs_uf], seq_col, seq_complete_col, verbose=False)\n",
    "s3_VDJ_VJs, s4_VDJ_VJs = filter_intersection([s3_VDJ_VJs_uf, s4_VDJ_VJs_uf], seq_col, seq_complete_col, verbose=False)\n",
    "\n",
    "\n",
    "# combine to one dataframe!\n",
    "seq_df = pd.concat([s1_VDJ_VJs, s2_VDJ_VJs, s3_VDJ_VJs, s4_VDJ_VJs])\n",
    "\n",
    "\n",
    "# drop duplicates in case sequences overlap in across mice (but then dropping them\n",
    "# is fine because they show up in the same sample, specific or not specific)\n",
    "seq_df = seq_df.drop_duplicates(subset=[seq_col]).reset_index(drop=True)\n",
    "\n",
    "# add column Seq_id column \n",
    "seq_df['seq_id'] = [str(x)+'_'+str(seq_df['sample_id'][x]) for x in seq_df.index]\n",
    "\n",
    "if verbose is True:\n",
    "    print(\"\\nNumber of unique, non-overlapping \" + seq_col + \" sequences\")\n",
    "    print(\"Total:\", len(seq_df))\n",
    "    print(\"s1:\", len(seq_df[seq_df[\"sample_id\"] == \"s1\"]))\n",
    "    print(\"s2:\", len(seq_df[seq_df[\"sample_id\"] == \"s2\"]))\n",
    "    print(\"s3:\", len(seq_df[seq_df[\"sample_id\"] == \"s3\"]))\n",
    "    print(\"s4:\", len(seq_df[seq_df[\"sample_id\"] == \"s4\"]))\n",
    "\n",
    "\n",
    "seq_df_comp = seq_df[seq_df.seq_complete == True]\n",
    "if verbose is True:\n",
    "    print(\"\\nNumber of unique, non-overlapping \" + \"VH_VL\" + \" sequences\")\n",
    "    print(\"Total:\", len(seq_df_comp))\n",
    "    print(\"s1:\", len(seq_df_comp[seq_df_comp[\"sample_id\"] == \"s1\"]))\n",
    "    print(\"s2:\", len(seq_df_comp[seq_df_comp[\"sample_id\"] == \"s2\"]))\n",
    "    print(\"s3:\", len(seq_df_comp[seq_df_comp[\"sample_id\"] == \"s3\"]))\n",
    "    print(\"s4:\", len(seq_df_comp[seq_df_comp[\"sample_id\"] == \"s4\"]))"
   ]
  },
  {
   "cell_type": "markdown",
   "id": "9b30d07d",
   "metadata": {},
   "source": [
    "### Plot CDR3 length for a check"
   ]
  },
  {
   "cell_type": "code",
   "execution_count": 8,
   "id": "0e6d1ded-87e2-431e-a2d7-271b3da1bb12",
   "metadata": {},
   "outputs": [
    {
     "data": {
      "text/plain": [
       "Text(0.5, 1.0, 'Histogram of CDRH3 Length with Color by group_id')"
      ]
     },
     "execution_count": 8,
     "metadata": {},
     "output_type": "execute_result"
    },
    {
     "data": {
      "image/png": "[encoded data removed]",
      "text/plain": [
       "<Figure size 640x480 with 1 Axes>"
      ]
     },
     "metadata": {},
     "output_type": "display_data"
    }
   ],
   "source": [
    "# Create a histogram plot of CDR lengths\n",
    "# Calculate the lengths of strings in column1\n",
    "seq_df[\"CDRH3_length\"] = seq_df[\"VDJ_aaSeqCDR3\"].str.len()## seq_df[\"VDJ_aaSeqCDR3\"].apply(len)\n",
    "\n",
    "# Create a histogram with colored bars\n",
    "plt.hist([seq_df.CDRH3_length[seq_df.group_id == 1], seq_df.CDRH3_length[seq_df.group_id == 2]], bins=10, \n",
    "         label = [\"specific\",\"nonspecific\"], color= [\"red\", \"blue\"])\n",
    "\n",
    "# Add legend\n",
    "plt.legend()\n",
    "\n",
    "# Add labels and title\n",
    "plt.xlabel(\"CDRH3 Length\")\n",
    "plt.ylabel(\"Frequency\")\n",
    "plt.title(\"Histogram of CDRH3 Length with Color by group_id\")"
   ]
  },
  {
   "cell_type": "markdown",
   "id": "f4cfa0cc",
   "metadata": {},
   "source": [
    "### Save dataframe and fasta files"
   ]
  },
  {
   "cell_type": "code",
   "execution_count": 9,
   "id": "e54ed830",
   "metadata": {},
   "outputs": [
    {
     "name": "stdout",
     "output_type": "stream",
     "text": [
      "Save fasta: 0\n",
      "last file saved\n"
     ]
    }
   ],
   "source": [
    "# Save sequences as fasta file\n",
    "if not os.path.exists(outputPath_processed_fasta):\n",
    "    os.makedirs(outputPath_processed_fasta)\n",
    "    \n",
    "save_fasta_file(seq_df, col_name = \"VDJ_aaSeq\", id_name = 'seq_id', n_seq = len(seq_df['seq_id']), \n",
    "                subdirectory = outputPath_processed_fasta, file_prefix = \"OVA_VDJ_aaSeq\")"
   ]
  },
  {
   "cell_type": "code",
   "execution_count": 88,
   "id": "24743913-5fd6-460c-a3e7-6d47dfc4ee16",
   "metadata": {},
   "outputs": [],
   "source": [
    "# save preprocessed dataframe\n",
    "seq_df.to_csv(outputPath_processed, index=False)"
   ]
  }
 ],
 "metadata": {
  "kernelspec": {
   "display_name": "Python 3 (ipykernel)",
   "language": "python",
   "name": "python3"
  },
  "language_info": {
   "codemirror_mode": {
    "name": "ipython",
    "version": 3
   },
   "file_extension": ".py",
   "mimetype": "text/x-python",
   "name": "python",
   "nbconvert_exporter": "python",
   "pygments_lexer": "ipython3",
   "version": "3.8.16"
  }
 },
 "nbformat": 4,
 "nbformat_minor": 5
}
